{
 "cells": [
  {
   "cell_type": "code",
   "execution_count": null,
   "id": "650a0869-2837-4118-ad6d-fc35a7250712",
   "metadata": {},
   "outputs": [],
   "source": [
    "import re\n",
    "import numpy as np\n",
    "import pandas as pd\n",
    "import geopandas as gpd\n",
    "import flopy\n",
    "import matplotlib as mpl\n",
    "import matplotlib.pyplot as plt\n",
    "\n",
    "mfnam = \"Example.nam\"\n",
    "model_ws = \"data_path\"\n",
    "m = flopy.modflow.Modflow.load(mfnam, model_ws=model_ws)\n",
    "# Load the head file\n",
    "headobj = flopy.utils.HeadFile(\"...\\Example.hds\")\n",
    "head = headobj.get_data(kstpkper=(0,10))  # Get the heads for the specific year\n",
    "head.shape\n",
    "head.min()"
   ]
  },
  {
   "cell_type": "code",
   "execution_count": null,
   "id": "1f0f6ca7-61a9-405f-8a3c-e9c900227885",
   "metadata": {},
   "outputs": [],
   "source": [
    "fig, axes = plt.subplots(2,2, figsize=(11, 8.5))\n",
    "axes = axes.flat\n",
    "grid = m.modelgrid\n",
    "for i, hdslayer in enumerate(head):\n",
    "    masked_layer = np.ma.masked_where(hdslayer == 99999, hdslayer)\n",
    "    \n",
    "    im = axes[i].imshow(masked_layer)\n",
    "    axes[i].set_title(f\"Layer {i + 1}\")\n",
    "\n",
    "    # export head rasters\n",
    "    # (GeoTiff export requires the rasterio package; for ascii grids, just change the extension to *.asc)\n",
    "    # flopy.export.utils.export_array(\n",
    "    #     head, os.path.join(model_ws, f\"heads{i + 1}.tif\"), hdslayer\n",
    "    # )\n",
    "\n",
    "fig.colorbar(im, label=\"Head\")"
   ]
  },
  {
   "cell_type": "code",
   "execution_count": null,
   "id": "3c8f4cce-f3eb-48e8-a813-e987a01ff10f",
   "metadata": {},
   "outputs": [],
   "source": []
  }
 ],
 "metadata": {
  "kernelspec": {
   "display_name": "Python 3 (ipykernel)",
   "language": "python",
   "name": "python3"
  },
  "language_info": {
   "codemirror_mode": {
    "name": "ipython",
    "version": 3
   },
   "file_extension": ".py",
   "mimetype": "text/x-python",
   "name": "python",
   "nbconvert_exporter": "python",
   "pygments_lexer": "ipython3",
   "version": "3.9.21"
  }
 },
 "nbformat": 4,
 "nbformat_minor": 5
}
